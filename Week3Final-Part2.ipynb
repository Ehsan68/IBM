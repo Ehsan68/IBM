{
    "cells": [
        {
            "cell_type": "code",
            "execution_count": 9,
            "metadata": {},
            "outputs": [
                {
                    "name": "stdout",
                    "output_type": "stream",
                    "text": "Requirement already satisfied: geocoder in /opt/conda/envs/Python36/lib/python3.6/site-packages (1.38.1)\nRequirement already satisfied: six in /opt/conda/envs/Python36/lib/python3.6/site-packages (from geocoder) (1.12.0)\nRequirement already satisfied: ratelim in /opt/conda/envs/Python36/lib/python3.6/site-packages (from geocoder) (0.1.6)\nRequirement already satisfied: requests in /opt/conda/envs/Python36/lib/python3.6/site-packages (from geocoder) (2.21.0)\nRequirement already satisfied: click in /opt/conda/envs/Python36/lib/python3.6/site-packages (from geocoder) (7.0)\nRequirement already satisfied: future in /opt/conda/envs/Python36/lib/python3.6/site-packages (from geocoder) (0.17.1)\nRequirement already satisfied: decorator in /opt/conda/envs/Python36/lib/python3.6/site-packages (from ratelim->geocoder) (4.3.2)\nRequirement already satisfied: urllib3<1.25,>=1.21.1 in /opt/conda/envs/Python36/lib/python3.6/site-packages (from requests->geocoder) (1.24.1)\nRequirement already satisfied: idna<2.9,>=2.5 in /opt/conda/envs/Python36/lib/python3.6/site-packages (from requests->geocoder) (2.8)\nRequirement already satisfied: certifi>=2017.4.17 in /opt/conda/envs/Python36/lib/python3.6/site-packages (from requests->geocoder) (2020.6.20)\nRequirement already satisfied: chardet<3.1.0,>=3.0.2 in /opt/conda/envs/Python36/lib/python3.6/site-packages (from requests->geocoder) (3.0.4)\n"
                }
            ],
            "source": "!pip install geocoder\n"
        },
        {
            "cell_type": "code",
            "execution_count": 10,
            "metadata": {},
            "outputs": [
                {
                    "name": "stdout",
                    "output_type": "stream",
                    "text": "Imported!\n"
                }
            ],
            "source": "import pandas as pd\nimport numpy as np\nimport geocoder\nprint(\"Imported!\")"
        },
        {
            "cell_type": "code",
            "execution_count": 11,
            "metadata": {},
            "outputs": [],
            "source": "# The code was removed by Watson Studio for sharing."
        },
        {
            "cell_type": "code",
            "execution_count": 12,
            "metadata": {},
            "outputs": [
                {
                    "data": {
                        "text/html": "<div>\n<style scoped>\n    .dataframe tbody tr th:only-of-type {\n        vertical-align: middle;\n    }\n\n    .dataframe tbody tr th {\n        vertical-align: top;\n    }\n\n    .dataframe thead th {\n        text-align: right;\n    }\n</style>\n<table border=\"1\" class=\"dataframe\">\n  <thead>\n    <tr style=\"text-align: right;\">\n      <th></th>\n      <th>Unnamed: 0</th>\n      <th>Postalcode</th>\n      <th>Borough</th>\n      <th>Neighborhood</th>\n    </tr>\n  </thead>\n  <tbody>\n    <tr>\n      <th>0</th>\n      <td>0</td>\n      <td>M1B</td>\n      <td>Scarborough</td>\n      <td>Malvern, Rouge</td>\n    </tr>\n    <tr>\n      <th>1</th>\n      <td>1</td>\n      <td>M1C</td>\n      <td>Scarborough</td>\n      <td>Rouge Hill, Port Union, Highland Creek</td>\n    </tr>\n    <tr>\n      <th>2</th>\n      <td>2</td>\n      <td>M1E</td>\n      <td>Scarborough</td>\n      <td>Guildwood, Morningside, West Hill</td>\n    </tr>\n    <tr>\n      <th>3</th>\n      <td>3</td>\n      <td>M1G</td>\n      <td>Scarborough</td>\n      <td>Woburn</td>\n    </tr>\n    <tr>\n      <th>4</th>\n      <td>4</td>\n      <td>M1H</td>\n      <td>Scarborough</td>\n      <td>Cedarbrae</td>\n    </tr>\n  </tbody>\n</table>\n</div>",
                        "text/plain": "   Unnamed: 0 Postalcode      Borough                            Neighborhood\n0           0        M1B  Scarborough                          Malvern, Rouge\n1           1        M1C  Scarborough  Rouge Hill, Port Union, Highland Creek\n2           2        M1E  Scarborough       Guildwood, Morningside, West Hill\n3           3        M1G  Scarborough                                  Woburn\n4           4        M1H  Scarborough                               Cedarbrae"
                    },
                    "execution_count": 12,
                    "metadata": {},
                    "output_type": "execute_result"
                }
            ],
            "source": "df = pd.read_csv(body)\ndf.head()"
        },
        {
            "cell_type": "code",
            "execution_count": 13,
            "metadata": {},
            "outputs": [
                {
                    "data": {
                        "text/plain": "[43.70909000000006, -79.36409999999995]"
                    },
                    "execution_count": 13,
                    "metadata": {},
                    "output_type": "execute_result"
                }
            ],
            "source": "def get_latilong(postal_code):\n    lati_long_coords = None\n    while(lati_long_coords is None):\n        g = geocoder.arcgis('{}, Toronto, Ontario'.format(postal_code))\n        lati_long_coords = g.latlng\n    return lati_long_coords\n    \nget_latilong('M4G')"
        },
        {
            "cell_type": "code",
            "execution_count": 14,
            "metadata": {},
            "outputs": [],
            "source": "# Retrieving Postal Code Co-ordinates\npostal_codes = df['Postalcode']    \ncoords = [ get_latilong(postal_code) for postal_code in postal_codes.tolist() ]"
        },
        {
            "cell_type": "code",
            "execution_count": 15,
            "metadata": {},
            "outputs": [],
            "source": "# Adding Columns Latitude & Longitude\ndf_coords = pd.DataFrame(coords, columns=['Latitude', 'Longitude'])\ndf['Latitude'] = df_coords['Latitude']\ndf['Longitude'] = df_coords['Longitude']"
        },
        {
            "cell_type": "code",
            "execution_count": 16,
            "metadata": {},
            "outputs": [
                {
                    "data": {
                        "text/html": "<div>\n<style scoped>\n    .dataframe tbody tr th:only-of-type {\n        vertical-align: middle;\n    }\n\n    .dataframe tbody tr th {\n        vertical-align: top;\n    }\n\n    .dataframe thead th {\n        text-align: right;\n    }\n</style>\n<table border=\"1\" class=\"dataframe\">\n  <thead>\n    <tr style=\"text-align: right;\">\n      <th></th>\n      <th>Unnamed: 0</th>\n      <th>Postalcode</th>\n      <th>Borough</th>\n      <th>Neighborhood</th>\n      <th>Latitude</th>\n      <th>Longitude</th>\n    </tr>\n  </thead>\n  <tbody>\n    <tr>\n      <th>57</th>\n      <td>57</td>\n      <td>M5G</td>\n      <td>Downtown Toronto</td>\n      <td>Central Bay Street</td>\n      <td>43.65609</td>\n      <td>-79.38493</td>\n    </tr>\n  </tbody>\n</table>\n</div>",
                        "text/plain": "    Unnamed: 0 Postalcode           Borough        Neighborhood  Latitude  \\\n57          57        M5G  Downtown Toronto  Central Bay Street  43.65609   \n\n    Longitude  \n57  -79.38493  "
                    },
                    "execution_count": 16,
                    "metadata": {},
                    "output_type": "execute_result"
                }
            ],
            "source": "df[df.Postalcode == 'M5G']\n"
        },
        {
            "cell_type": "code",
            "execution_count": 17,
            "metadata": {},
            "outputs": [
                {
                    "data": {
                        "text/html": "<div>\n<style scoped>\n    .dataframe tbody tr th:only-of-type {\n        vertical-align: middle;\n    }\n\n    .dataframe tbody tr th {\n        vertical-align: top;\n    }\n\n    .dataframe thead th {\n        text-align: right;\n    }\n</style>\n<table border=\"1\" class=\"dataframe\">\n  <thead>\n    <tr style=\"text-align: right;\">\n      <th></th>\n      <th>Unnamed: 0</th>\n      <th>Postalcode</th>\n      <th>Borough</th>\n      <th>Neighborhood</th>\n      <th>Latitude</th>\n      <th>Longitude</th>\n    </tr>\n  </thead>\n  <tbody>\n    <tr>\n      <th>0</th>\n      <td>0</td>\n      <td>M1B</td>\n      <td>Scarborough</td>\n      <td>Malvern, Rouge</td>\n      <td>43.81153</td>\n      <td>-79.19552</td>\n    </tr>\n    <tr>\n      <th>1</th>\n      <td>1</td>\n      <td>M1C</td>\n      <td>Scarborough</td>\n      <td>Rouge Hill, Port Union, Highland Creek</td>\n      <td>43.78564</td>\n      <td>-79.15871</td>\n    </tr>\n    <tr>\n      <th>2</th>\n      <td>2</td>\n      <td>M1E</td>\n      <td>Scarborough</td>\n      <td>Guildwood, Morningside, West Hill</td>\n      <td>43.76575</td>\n      <td>-79.17520</td>\n    </tr>\n    <tr>\n      <th>3</th>\n      <td>3</td>\n      <td>M1G</td>\n      <td>Scarborough</td>\n      <td>Woburn</td>\n      <td>43.76820</td>\n      <td>-79.21761</td>\n    </tr>\n    <tr>\n      <th>4</th>\n      <td>4</td>\n      <td>M1H</td>\n      <td>Scarborough</td>\n      <td>Cedarbrae</td>\n      <td>43.76969</td>\n      <td>-79.23944</td>\n    </tr>\n    <tr>\n      <th>5</th>\n      <td>5</td>\n      <td>M1J</td>\n      <td>Scarborough</td>\n      <td>Scarborough Village</td>\n      <td>43.74309</td>\n      <td>-79.23526</td>\n    </tr>\n    <tr>\n      <th>6</th>\n      <td>6</td>\n      <td>M1K</td>\n      <td>Scarborough</td>\n      <td>Kennedy Park, Ionview, East Birchmount Park</td>\n      <td>43.72861</td>\n      <td>-79.26367</td>\n    </tr>\n    <tr>\n      <th>7</th>\n      <td>7</td>\n      <td>M1L</td>\n      <td>Scarborough</td>\n      <td>Golden Mile, Clairlea, Oakridge</td>\n      <td>43.71406</td>\n      <td>-79.28412</td>\n    </tr>\n    <tr>\n      <th>8</th>\n      <td>8</td>\n      <td>M1M</td>\n      <td>Scarborough</td>\n      <td>Cliffside, Cliffcrest, Scarborough Village West</td>\n      <td>43.72360</td>\n      <td>-79.23496</td>\n    </tr>\n    <tr>\n      <th>9</th>\n      <td>9</td>\n      <td>M1N</td>\n      <td>Scarborough</td>\n      <td>Birch Cliff, Cliffside West</td>\n      <td>43.69539</td>\n      <td>-79.26194</td>\n    </tr>\n    <tr>\n      <th>10</th>\n      <td>10</td>\n      <td>M1P</td>\n      <td>Scarborough</td>\n      <td>Dorset Park, Wexford Heights, Scarborough Town...</td>\n      <td>43.75998</td>\n      <td>-79.26837</td>\n    </tr>\n    <tr>\n      <th>11</th>\n      <td>11</td>\n      <td>M1R</td>\n      <td>Scarborough</td>\n      <td>Wexford, Maryvale</td>\n      <td>43.75071</td>\n      <td>-79.30056</td>\n    </tr>\n    <tr>\n      <th>12</th>\n      <td>12</td>\n      <td>M1S</td>\n      <td>Scarborough</td>\n      <td>Agincourt</td>\n      <td>43.79394</td>\n      <td>-79.26711</td>\n    </tr>\n    <tr>\n      <th>13</th>\n      <td>13</td>\n      <td>M1T</td>\n      <td>Scarborough</td>\n      <td>Clarks Corners, Tam O'Shanter, Sullivan</td>\n      <td>43.78473</td>\n      <td>-79.29937</td>\n    </tr>\n    <tr>\n      <th>14</th>\n      <td>14</td>\n      <td>M1V</td>\n      <td>Scarborough</td>\n      <td>Milliken, Agincourt North, Steeles East, L'Amo...</td>\n      <td>43.81781</td>\n      <td>-79.28024</td>\n    </tr>\n  </tbody>\n</table>\n</div>",
                        "text/plain": "    Unnamed: 0 Postalcode      Borough  \\\n0            0        M1B  Scarborough   \n1            1        M1C  Scarborough   \n2            2        M1E  Scarborough   \n3            3        M1G  Scarborough   \n4            4        M1H  Scarborough   \n5            5        M1J  Scarborough   \n6            6        M1K  Scarborough   \n7            7        M1L  Scarborough   \n8            8        M1M  Scarborough   \n9            9        M1N  Scarborough   \n10          10        M1P  Scarborough   \n11          11        M1R  Scarborough   \n12          12        M1S  Scarborough   \n13          13        M1T  Scarborough   \n14          14        M1V  Scarborough   \n\n                                         Neighborhood  Latitude  Longitude  \n0                                      Malvern, Rouge  43.81153  -79.19552  \n1              Rouge Hill, Port Union, Highland Creek  43.78564  -79.15871  \n2                   Guildwood, Morningside, West Hill  43.76575  -79.17520  \n3                                              Woburn  43.76820  -79.21761  \n4                                           Cedarbrae  43.76969  -79.23944  \n5                                 Scarborough Village  43.74309  -79.23526  \n6         Kennedy Park, Ionview, East Birchmount Park  43.72861  -79.26367  \n7                     Golden Mile, Clairlea, Oakridge  43.71406  -79.28412  \n8     Cliffside, Cliffcrest, Scarborough Village West  43.72360  -79.23496  \n9                         Birch Cliff, Cliffside West  43.69539  -79.26194  \n10  Dorset Park, Wexford Heights, Scarborough Town...  43.75998  -79.26837  \n11                                  Wexford, Maryvale  43.75071  -79.30056  \n12                                          Agincourt  43.79394  -79.26711  \n13            Clarks Corners, Tam O'Shanter, Sullivan  43.78473  -79.29937  \n14  Milliken, Agincourt North, Steeles East, L'Amo...  43.81781  -79.28024  "
                    },
                    "execution_count": 17,
                    "metadata": {},
                    "output_type": "execute_result"
                }
            ],
            "source": "df.head(15)\n"
        },
        {
            "cell_type": "code",
            "execution_count": 18,
            "metadata": {},
            "outputs": [],
            "source": "df.to_csv('toronto_part2.csv',index=False)\n"
        },
        {
            "cell_type": "code",
            "execution_count": null,
            "metadata": {},
            "outputs": [],
            "source": ""
        }
    ],
    "metadata": {
        "kernelspec": {
            "display_name": "Python 3.6",
            "language": "python",
            "name": "python3"
        },
        "language_info": {
            "codemirror_mode": {
                "name": "ipython",
                "version": 3
            },
            "file_extension": ".py",
            "mimetype": "text/x-python",
            "name": "python",
            "nbconvert_exporter": "python",
            "pygments_lexer": "ipython3",
            "version": "3.6.9"
        }
    },
    "nbformat": 4,
    "nbformat_minor": 1
}